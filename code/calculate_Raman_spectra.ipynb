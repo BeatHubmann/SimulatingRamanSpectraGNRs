{
 "cells": [
  {
   "cell_type": "markdown",
   "metadata": {},
   "source": [
    "## Jupyter Setup"
   ]
  },
  {
   "cell_type": "code",
   "execution_count": null,
   "metadata": {
    "scrolled": true
   },
   "outputs": [],
   "source": [
    "%reset"
   ]
  },
  {
   "cell_type": "code",
   "execution_count": null,
   "metadata": {
    "scrolled": true
   },
   "outputs": [],
   "source": [
    "from ase import Atoms\n",
    "from ase.io import read, write\n",
    "\n",
    "import matplotlib.pyplot as plt\n",
    "import nglview as nv\n",
    "import numpy as np\n",
    "import os\n",
    "import re\n",
    "\n",
    "%matplotlib inline"
   ]
  },
  {
   "cell_type": "markdown",
   "metadata": {},
   "source": [
    "## Preparation and Input"
   ]
  },
  {
   "cell_type": "code",
   "execution_count": null,
   "metadata": {
    "scrolled": true
   },
   "outputs": [],
   "source": [
    "# defining universal constants\n",
    "c = 299792458\n",
    "mu_0 = 1.25663706212 * 1e-6\n",
    "eps_0 = np.reciprocal(np.square(c) * mu_0)\n",
    "k_B = 1.380649 * 1e-23\n",
    "h =  6.62607015 * 1e-34"
   ]
  },
  {
   "cell_type": "code",
   "execution_count": null,
   "metadata": {
    "scrolled": true
   },
   "outputs": [],
   "source": [
    "# read atomic weights from official NIST data - see http://physics.nist.gov/Comp for source\n",
    "symbols, isotopic_comps, masses = [], [], []\n",
    "atomic_weights_file = '../data/NIST_atomic_weights.txt'\n",
    "\n",
    "with open(atomic_weights_file, 'r') as f:\n",
    "    atomic_weights_data = [l.strip() for l in f.readlines() if len(l) > 1]\n",
    "    \n",
    "for l in atomic_weights_data:\n",
    "    elements = l.split(' =')\n",
    "    if elements[0] == 'Atomic Symbol':\n",
    "        symbols.append(elements[1].strip())\n",
    "    elif elements[0] == 'Isotopic Composition':\n",
    "        isotopic_comp = 1E-5 # assume v.low isotopic composition if no value given to avoid NaN\n",
    "        if elements[1]:\n",
    "            isotopic_comp = float(re.findall('[0-9]+\\.?[0-9]*', elements[1])[0])\n",
    "        isotopic_comps.append(isotopic_comp)\n",
    "    elif elements[0] == 'Relative Atomic Mass':\n",
    "        mass = float(re.findall('[0-9]+.[0-9]+', elements[1])[0])\n",
    "        masses.append(float(mass))\n",
    "\n",
    "atomic_mass = {symbol: mass for (symbol, mass, isotopic_comp) in zip(symbols, masses, isotopic_comps) \\\n",
    "               if isotopic_comp > 0.5} # only consider the most prevalent isotope for simplicity"
   ]
  },
  {
   "cell_type": "code",
   "execution_count": null,
   "metadata": {
    "scrolled": true
   },
   "outputs": [],
   "source": [
    "work_dir = %pwd"
   ]
  },
  {
   "cell_type": "code",
   "execution_count": null,
   "metadata": {
    "scrolled": false
   },
   "outputs": [],
   "source": [
    "# Choose and name sample molecule\n",
    "\n",
    "# name, data_dir = 'Ethane', '../data/cp2k_vibr_c2h6/raman/'\n",
    "# name, data_dir = '7-AGNR (3 units)', '../data/cp2k_vibr_3units_7agnr/raman/'\n",
    "# name, data_dir = '7-AGNR (6 units)', '../data/cp2k_vibr_6units_7agnr/raman/'\n",
    "# name, data_dir = '7-AGNR (12 units)', '../data/cp2k_vibr_12units_7agnr/raman/'\n",
    "# name, data_dir = '7-AGNR (12 units) \"Bite\" Defect', '../data/cp2k_vibr_12units_7agnr_defect_bite/raman/'\n",
    "# name, data_dir = '7-AGNR (12 units) Nitrogen Doping Defect', '../data/cp2k_vibr_12units_7agnr_defect_N/raman/'\n",
    "name, data_dir = '7-AGNR (12 units) Nitrogen+Boron Doping Defect', '../data/cp2k_vibr_12units_7agnr_defect_N_B/raman/'"
   ]
  },
  {
   "cell_type": "code",
   "execution_count": null,
   "metadata": {
    "scrolled": true
   },
   "outputs": [],
   "source": [
    "cp2k_in_file = data_dir + 'cp2k.inp'\n",
    "cp2k_out_file = data_dir + 'cp2k.out'"
   ]
  },
  {
   "cell_type": "code",
   "execution_count": null,
   "metadata": {
    "scrolled": true
   },
   "outputs": [],
   "source": [
    "with open(cp2k_in_file, 'r') as f:\n",
    "    cp2k_inp_data = [l.strip() for l in f.readlines()]\n",
    "\n",
    "with open(cp2k_out_file, 'r') as f:\n",
    "    cp2k_out_data = [l.strip() for l in f.readlines()]"
   ]
  },
  {
   "cell_type": "code",
   "execution_count": null,
   "metadata": {
    "scrolled": true
   },
   "outputs": [],
   "source": [
    "for l in cp2k_inp_data:\n",
    "    elements = l.split()\n",
    "    if elements:\n",
    "        if elements[0] == 'COORD_FILE_NAME':\n",
    "            coord_file = data_dir + elements[1].strip('./')\n",
    "        elif elements[0] == 'DX':\n",
    "            dx = float(elements[1])"
   ]
  },
  {
   "cell_type": "code",
   "execution_count": null,
   "metadata": {
    "scrolled": true
   },
   "outputs": [],
   "source": [
    "with open(coord_file, 'r') as f:\n",
    "    coord_data = [l.strip() for l in f.readlines()]\n",
    "    \n",
    "n = int(coord_data[0])\n",
    "opt_steps = int(len(coord_data) / (n+2))\n",
    "assert (len(coord_data) % opt_steps == 0)\n",
    "\n",
    "coord_data = coord_data[(opt_steps-1) * (n+2):]\n",
    "\n",
    "atoms = np.zeros(n, dtype=np.str)\n",
    "positions = np.zeros((n, 3))\n",
    "\n",
    "for i in range(len(coord_data)-2):\n",
    "    atoms[i], *positions[i] = coord_data[i+2].split()\n",
    "\n",
    "molecule = Atoms(atoms, positions)    "
   ]
  },
  {
   "cell_type": "code",
   "execution_count": null,
   "metadata": {
    "scrolled": true
   },
   "outputs": [],
   "source": [
    "# array of 1 / sqrt(atomic_mass) for calculating mass-weighted normal coordinate polarization derivatives below\n",
    "atom_mass_inv_sqrt = np.sqrt(np.reciprocal([atomic_mass.get(atom) for atom in atoms]))"
   ]
  },
  {
   "cell_type": "code",
   "execution_count": null,
   "metadata": {
    "scrolled": true
   },
   "outputs": [],
   "source": [
    "# display molecule for visual check\n",
    "nv.show_ase(molecule)"
   ]
  },
  {
   "cell_type": "code",
   "execution_count": null,
   "metadata": {
    "scrolled": true
   },
   "outputs": [],
   "source": [
    "# write molecule image to file for quick check if required\n",
    "# write('visual_'+name+'.png', molecule) # PNG file\n",
    "# write('visual_'+name+'.eps', molecule) # EPS file"
   ]
  },
  {
   "cell_type": "markdown",
   "metadata": {},
   "source": [
    "## Parsing CP2K Output"
   ]
  },
  {
   "cell_type": "code",
   "execution_count": null,
   "metadata": {
    "scrolled": false
   },
   "outputs": [],
   "source": [
    "normal_freqs_list = []\n",
    "normal_intens_list = []\n",
    "normal_redmasses_list = []\n",
    "normal_frcconsts_list = []\n",
    "\n",
    "task_dict = {}\n",
    "dim_dict = {'X': 0, 'Y': 1, 'Z': 2}\n",
    "step_dict = {'+': 0, '-': 1}\n",
    "\n",
    "atom_displacements, atom_labels = [], []\n",
    "hessian_elements, hessian_labels = [], []\n",
    "for a in range(1, 1+n):\n",
    "    atom_displacements.append([])\n",
    "    atom_labels.append(str(a))\n",
    "    hessian_elements.extend([[], [], []])\n",
    "    hessian_labels.extend([str(a*3-2), str(a*3-1), str(a*3)])\n",
    "\n",
    "hessian_section, normal_mode_section = False, False\n",
    "\n",
    "for l in cp2k_out_data:\n",
    "    elements = l.split()\n",
    "    if not normal_mode_section and not hessian_section: # vibrational analysis section\n",
    "        if len(elements) > 1:\n",
    "            if elements[0] == 'REPLICA|':\n",
    "                if elements[-2] == 'groups':\n",
    "                    num_groups = int(elements[-1])\n",
    "                elif elements[-2] == 'group':\n",
    "                    group_size = int(elements[-1])\n",
    "                task_counter = num_groups * [1]\n",
    "            elif elements[0] == 'VIB|':\n",
    "                if elements[1] == 'REPLICA':\n",
    "                    replica_num = int(elements[3].strip('-'))\n",
    "                    atom_num = int(elements[9]) - 1\n",
    "                    dim_num = dim_dict[elements[11]]\n",
    "                    step_num = step_dict[elements[12]]\n",
    "                    task_num = task_counter[replica_num-1]\n",
    "                    task_counter[replica_num-1] += 1                    \n",
    "                    task_key = str(replica_num) + '_' + str(task_num)\n",
    "                    task_dict[task_key] = [atom_num, dim_num, step_num]                    \n",
    "                elif elements[1] == 'Hessian':\n",
    "                    hessian_section = True\n",
    "                elif elements[1] == 'NORMAL':\n",
    "                    normal_mode_section = True\n",
    "    \n",
    "    elif hessian_section:\n",
    "        if len(elements) > 1:\n",
    "            if elements[0] in hessian_labels and elements[1] not in hessian_labels:\n",
    "                hessian_row = int(elements[0]) - 1\n",
    "                hessian_elements[hessian_row].extend(elements[2:])\n",
    "            elif elements[0] == 'VIB|' and elements[1] == 'Cartesian':\n",
    "                    hessian_section = False\n",
    "            \n",
    "    elif normal_mode_section:\n",
    "        if elements:\n",
    "            if elements[0] == \"VIB|Frequency\":\n",
    "                [normal_freqs_list.append(float(freq)) for freq in elements[2:]]\n",
    "            elif elements[0] == \"VIB|Intensities\":\n",
    "                [normal_intens_list.append(float(freq)) for freq in elements[1:]]\n",
    "            elif elements[0] == \"VIB|Red.Masses\":\n",
    "                [normal_redmasses_list.append(float(freq)) for freq in elements[2:]]\n",
    "            elif elements[0] == \"VIB|Frc\":\n",
    "                [normal_frcconsts_list.append(float(freq)) for freq in elements[3:]]\n",
    "            elif elements[0] == \"COUNTER\":\n",
    "                normal_mode_section = False\n",
    "            elif elements[0] in atom_labels:\n",
    "                atom_number = int(elements[0]) - 1\n",
    "                atom_displacements[atom_number].extend(elements[2:])\n",
    "                \n",
    "inv_task_dict = {str(v): k for k, v in task_dict.items()}                \n",
    "\n",
    "assert(len(atom_displacements[0]) == len(atom_displacements[-1]))\n",
    "\n",
    "\n",
    "hessian = np.asarray(hessian_elements).astype(np.float)\n",
    "\n",
    "num_normal_modes = int(len(atom_displacements[0]) / 3)\n",
    "                \n",
    "normal_freqs = np.asarray(normal_freqs_list)\n",
    "normal_intens = np.asarray(normal_intens_list)\n",
    "normal_redmasses = np.asarray(normal_redmasses_list)\n",
    "normal_frcconsts = np.asarray(normal_frcconsts_list)\n",
    "\n",
    "normal_displacements = np.ndarray((n, num_normal_modes, 3))\n",
    "for a in range(len(atom_labels)):\n",
    "    normal_displacements[a] = np.asarray(atom_displacements[a]).reshape(-1, 3).astype(np.float)\n",
    "\n",
    "assert(normal_freqs.shape == normal_intens.shape == normal_redmasses.shape == normal_frcconsts.shape)"
   ]
  },
  {
   "cell_type": "code",
   "execution_count": null,
   "metadata": {
    "scrolled": true
   },
   "outputs": [],
   "source": [
    "def atoi(snip):\n",
    "    return int(snip) if snip.isdigit() else snip\n",
    "\n",
    "def natural_key(name):\n",
    "    return [atoi(n) for n in re.split(r'(\\d+)', name)]"
   ]
  },
  {
   "cell_type": "code",
   "execution_count": null,
   "metadata": {
    "scrolled": true
   },
   "outputs": [],
   "source": [
    "data_file_list = [f for f in os.listdir(data_dir) if f.endswith('.data')]\n",
    "data_file_list.sort(key=natural_key)"
   ]
  },
  {
   "cell_type": "code",
   "execution_count": null,
   "metadata": {
    "scrolled": true
   },
   "outputs": [],
   "source": [
    "###  assigning polarizability tensors to proper atoms, dimensions,\n",
    "### and distortion steps according to cp2k.out:\n",
    "\n",
    "dx_steps = len(step_dict) # = 2 for central finite differences 3-point scheme\n",
    "dims =  len(dim_dict)# = 3 for 3D\n",
    "polarizabilities = np.ndarray((n, dims, dx_steps, dims, dims))\n",
    "for file in data_file_list:\n",
    "    [task_key] = re.findall('[0-9]+_[0-9]+', file)\n",
    "    if task_key in task_dict:\n",
    "        atom_num, dim_num, step_num = task_dict.get(task_key)\n",
    "        file_path = data_dir + file\n",
    "        with open(file_path, 'r') as f:\n",
    "            tensor_data = [l.strip() for l in f.readlines()]\n",
    "        au_section, ang_section = False, False\n",
    "        for l in tensor_data:\n",
    "            elements = l.split()\n",
    "            if elements:\n",
    "                if elements[2] == '(atomic':\n",
    "                    au_section, ang_section = True, False\n",
    "                elif elements[2] == '(Angstrom^3):':\n",
    "                    au_section, ang_section = False, True\n",
    "                elif elements[0] == 'xx,yy,zz' and ang_section:\n",
    "                    polarizabilities[atom_num][dim_num][step_num][0][0] = elements[1]\n",
    "                    polarizabilities[atom_num][dim_num][step_num][1][1] = elements[2]\n",
    "                    polarizabilities[atom_num][dim_num][step_num][2][2] = elements[3]\n",
    "                elif elements[0] == 'xy,xz,yz' and ang_section:\n",
    "                    polarizabilities[atom_num][dim_num][step_num][0][1] = elements[1]\n",
    "                    polarizabilities[atom_num][dim_num][step_num][0][2] = elements[2]\n",
    "                    polarizabilities[atom_num][dim_num][step_num][1][2] = elements[3]\n",
    "                elif elements[0] == 'yx,zx,zy' and ang_section:\n",
    "                    polarizabilities[atom_num][dim_num][step_num][1][0] = elements[1]\n",
    "                    polarizabilities[atom_num][dim_num][step_num][2][0] = elements[2]\n",
    "                    polarizabilities[atom_num][dim_num][step_num][2][1] = elements[3]"
   ]
  },
  {
   "cell_type": "markdown",
   "metadata": {},
   "source": [
    "## Calculating Raman Tensor Placzek Invariants"
   ]
  },
  {
   "cell_type": "code",
   "execution_count": null,
   "metadata": {
    "scrolled": false
   },
   "outputs": [],
   "source": [
    "# FDM 3-point first derivative of polarizability tensors:\n",
    "\n",
    "# dx in cp2k is in Bohr, polarizability tensors are in Angstrom^3:\n",
    "bohr2ang = 0.5291772109\n",
    "factor = 1 / (2 * dx * bohr2ang)\n",
    "\n",
    "# polarizability tensor derivatives w.r.t. cartesian coordinates in Angstrom^2:\n",
    "polariz_dxyz = factor * (polarizabilities[:, :, 0, :, :] - polarizabilities[:, :, 1, :, :])"
   ]
  },
  {
   "cell_type": "code",
   "execution_count": null,
   "metadata": {
    "scrolled": true
   },
   "outputs": [],
   "source": [
    "# Calculating Raman tensor from polarizability tensor derivatives, normal mode displacements, atomic masses\n",
    "\n",
    "polariz_dq = np.einsum('ad...,akd,a->k...', polariz_dxyz, normal_displacements, atom_mass_inv_sqrt)"
   ]
  },
  {
   "cell_type": "code",
   "execution_count": null,
   "metadata": {
    "scrolled": true
   },
   "outputs": [],
   "source": [
    "# Placzek tensor invariants\n",
    "\n",
    "# mean polarizability squared:\n",
    "a_sq = np.square(np.trace(polariz_dq, 0, 2) / 3).reshape((-1,1))\n",
    "\n",
    "# anisotropy:\n",
    "gamma_sq = np.zeros((num_normal_modes,1))\n",
    "\n",
    "# asymmetric anisotropy:\n",
    "delta_sq = np.zeros_like(gamma_sq)\n",
    "\n",
    "for k in range(num_normal_modes):\n",
    "    gamma_sq[k] = 0.5  * (np.square(polariz_dq[k][0][0] - polariz_dq[k][1][1])\n",
    "                         +np.square(polariz_dq[k][1][1] - polariz_dq[k][2][2])\n",
    "                         +np.square(polariz_dq[k][2][2] - polariz_dq[k][0][0])) \\\n",
    "                         +3 * (np.square(polariz_dq[k][0][1])\n",
    "                              +np.square(polariz_dq[k][1][2])\n",
    "                              +np.square(polariz_dq[k][2][0]))\n",
    "    delta_sq[k] = 0.75 * (np.square(polariz_dq[k][0][1] - polariz_dq[k][1][0])\n",
    "                         +np.square(polariz_dq[k][0][2] - polariz_dq[k][2][0])\n",
    "                         +np.square(polariz_dq[k][1][2] - polariz_dq[k][2][1]))"
   ]
  },
  {
   "cell_type": "code",
   "execution_count": null,
   "metadata": {
    "scrolled": true
   },
   "outputs": [],
   "source": [
    "# setup variables for plotting\n",
    "I_raman = np.zeros((num_normal_modes,3))\n",
    "dsigma_domega = np.zeros_like(I_raman)\n",
    "cs_raman = np.zeros_like(I_raman)"
   ]
  },
  {
   "cell_type": "markdown",
   "metadata": {},
   "source": [
    "## Plotting and Output Function Definitions"
   ]
  },
  {
   "cell_type": "code",
   "execution_count": null,
   "metadata": {
    "scrolled": true
   },
   "outputs": [],
   "source": [
    "def set_size(width='thesis', fraction=1, subplots=(1, 1)):\n",
    "    \"\"\"Set figure dimensions to avoid scaling in LaTeX.\n",
    "\n",
    "    credit to Jack Walton, see https://jwalton.info//Embed-Publication-Matplotlib-Latex/\n",
    "\n",
    "    Parameters\n",
    "    ----------\n",
    "    width: float or string\n",
    "            Document width in points, or string of predined document type\n",
    "    fraction: float, optional\n",
    "            Fraction of the width which you wish the figure to occupy\n",
    "    subplots: array-like, optional\n",
    "            The number of rows and columns of subplots.\n",
    "    Returns\n",
    "    -------\n",
    "    fig_dim: tuple\n",
    "            Dimensions of figure in inches\n",
    "    \"\"\"\n",
    "    if width == 'thesis':\n",
    "        width_pt = 426.79135\n",
    "    elif width == 'beamer':\n",
    "        width_pt = 307.28987\n",
    "    else:\n",
    "        width_pt = width\n",
    "\n",
    "    # Width of figure (in pts)\n",
    "    fig_width_pt = width_pt * fraction\n",
    "    # Convert from pt to inches\n",
    "    inches_per_pt = 1 / 72.27\n",
    "\n",
    "    # Golden ratio to set aesthetic figure height\n",
    "    # https://disq.us/p/2940ij3\n",
    "    golden_ratio = (5**.5 - 1) / 2\n",
    "\n",
    "    # Figure width in inches\n",
    "    fig_width_in = fig_width_pt * inches_per_pt\n",
    "    # Figure height in inches\n",
    "    fig_height_in = fig_width_in * golden_ratio * (subplots[0] / subplots[1])\n",
    "\n",
    "    return (fig_width_in, fig_height_in)"
   ]
  },
  {
   "cell_type": "code",
   "execution_count": null,
   "metadata": {
    "scrolled": false
   },
   "outputs": [],
   "source": [
    "def plot_intensity(title=' ',  start_idx=0, end_idx=None, normal_freqs=normal_freqs, I_raman=I_raman, width='thesis', color='darkblue', linewidth=5.0):\n",
    "    \n",
    "    plt.style.use('seaborn')\n",
    "    tex_fonts = {\n",
    "        # Use LaTeX to write all text\n",
    "        \"text.usetex\": True,\n",
    "        \"font.family\": \"serif\",\n",
    "        # Use 10pt font in plots, to match 10pt font in document\n",
    "        \"axes.labelsize\": 12,\n",
    "        \"font.size\": 12,\n",
    "        # Make the legend/label fonts a little smaller\n",
    "        \"legend.fontsize\": 10,\n",
    "        \"xtick.labelsize\": 10,\n",
    "        \"ytick.labelsize\": 10\n",
    "    }\n",
    "    plt.rcParams.update(tex_fonts)\n",
    "    \n",
    "    plt.subplots(1, 1, figsize=set_size(width))\n",
    "    plt.xlabel('Raman shift [$cm^{-1}$]')\n",
    "    plt.ylabel('Raman intensity [$\\AA^4  amu^{-1}$]')\n",
    "    \n",
    "    plt.vlines(normal_freqs[start_idx:end_idx],\n",
    "               np.zeros_like(normal_freqs[start_idx:end_idx]),\n",
    "               I_raman[start_idx:end_idx, 0],\n",
    "               color=color,\n",
    "               linewidth=linewidth)\n",
    "    \n",
    "    plt.hlines(0, *plt.xlim(left=0))\n",
    "    plt.ylim(bottom=-20)\n",
    "    plt.xlim([-50, 1.05 * normal_freqs[end_idx if end_idx else -1]])\n",
    "    \n",
    "    plt.ticklabel_format(axis='y', style='sci', scilimits=(0,3), useOffset=False, useMathText=True)\n",
    "    \n",
    "#     plt.title(title, pad=20, wrap=True)\n",
    "    plt.tight_layout()\n",
    "    \n",
    "    title = re.sub('\\W+','', title)\n",
    "    plt.savefig(title + '.pdf', bbox_inches='tight')\n",
    "    plt.savefig(title + '.png', bbox_inches='tight')\n",
    "    plt.savefig(title + '.eps', bbox_inches='tight')"
   ]
  },
  {
   "cell_type": "code",
   "execution_count": null,
   "metadata": {
    "scrolled": true
   },
   "outputs": [],
   "source": [
    "def plot_intensities(name=name, start_idx=0, end_idx=None, normal_freqs=normal_freqs, I_raman=I_raman, width='thesis', color='darkblue', linewidth=5.0):\n",
    "    plt.style.use('seaborn')\n",
    "    tex_fonts = {\n",
    "        # Use LaTeX to write all text\n",
    "        \"text.usetex\": True,\n",
    "        \"font.family\": \"serif\",\n",
    "        # Use 10pt font in plots, to match 10pt font in document\n",
    "        \"axes.labelsize\": 12,\n",
    "        \"font.size\": 12,\n",
    "        # Make the legend/label fonts a little smaller\n",
    "        \"legend.fontsize\": 10,\n",
    "        \"xtick.labelsize\": 10,\n",
    "        \"ytick.labelsize\": 10\n",
    "    }\n",
    "    plt.rcParams.update(tex_fonts)\n",
    "    \n",
    "    n_subplots = 3\n",
    "    title = 'Computed ' + name\n",
    "    \n",
    "    fig, axs = plt.subplots(n_subplots, figsize=set_size(width, subplots=(3,1)))\n",
    "    \n",
    "    for i in range(n_subplots):    \n",
    "        axs[i].set_title(title)\n",
    "        axs[i].vlines(normal_freqs[start_idx:end_idx],\n",
    "                      np.zeros_like(normal_freqs[start_idx:end_idx]),\n",
    "                      I_raman[start_idx:end_idx, i],\n",
    "                      color=color,\n",
    "                      linewidth=linewidth)\n",
    "        \n",
    "    for ax in axs.flat:\n",
    "        ax.hlines(0, *plt.xlim(left=0))\n",
    "        ax.set(xlabel='Raman shift [$cm^{-1}$]', ylabel='Raman intensity [$\\AA^4  amu^{-1}$]')\n",
    "        ax.label_outer()\n",
    "        ax.set_ylim(-20, axs[0].get_ylim()[1])\n",
    "        ax.set_xlim([-50, 1.05 * normal_freqs[end_idx if end_idx else -1]])\n",
    "        ax.ticklabel_format(axis='y', style='sci', scilimits=(0,3), useOffset=False, useMathText=True)\n",
    "\n",
    "\n",
    "        \n",
    "    axs[0].set_title(title + \" total Raman intensity $I(\\perp^s + \\parallel^s)$\", pad=20, wrap=True)\n",
    "    axs[1].set_title(title + \" perpendicular Raman intensity $I(\\perp^s)$\", pad=20, wrap=True)\n",
    "    axs[2].set_title(title + \" parallel Raman intensity $I(\\parallel^s)$\", pad=20, wrap=True)\n",
    "    plt.tight_layout()\n",
    "\n",
    "    title = re.sub('\\W+','', title)\n",
    "    plt.savefig(title + 'Ramanintensity.pdf', bbox_inches='tight')\n",
    "    plt.savefig(title + 'Ramanintensity.png', bbox_inches='tight')\n",
    "    plt.savefig(title + 'Ramanintensity.eps', bbox_inches='tight')"
   ]
  },
  {
   "cell_type": "code",
   "execution_count": null,
   "metadata": {
    "scrolled": true
   },
   "outputs": [],
   "source": [
    "def plot_cross_section(title=' ', start_idx=0, end_idx=None, normal_freqs=normal_freqs, cs_raman=cs_raman, width='thesis', color='darkblue', linewidth=5.0):\n",
    "    plt.style.use('seaborn')\n",
    "    tex_fonts = {\n",
    "        # Use LaTeX to write all text\n",
    "        \"text.usetex\": True,\n",
    "        \"font.family\": \"serif\",\n",
    "        # Use 10pt font in plots, to match 10pt font in document\n",
    "        \"axes.labelsize\": 12,\n",
    "        \"font.size\": 12,\n",
    "        # Make the legend/label fonts a little smaller\n",
    "        \"legend.fontsize\": 10,\n",
    "        \"xtick.labelsize\": 10,\n",
    "        \"ytick.labelsize\": 10\n",
    "    }\n",
    "    plt.rcParams.update(tex_fonts)\n",
    "    \n",
    "    plt.subplots(1, 1, figsize=set_size(width))\n",
    "    plt.xlabel('Raman shift [$cm^{-1}$]')\n",
    "    plt.ylabel('Raman cross-section [arb. units]')\n",
    "\n",
    "    plt.vlines(normal_freqs, np.zeros_like(normal_freqs), cs_raman[:, 0], color=color, linewidth=linewidth)\n",
    "    plt.hlines(0, *plt.xlim(left=0))\n",
    "    \n",
    "    plt.ylim([-5,105])\n",
    "    plt.xlim([-50, 1.05 * normal_freqs[end_idx if end_idx else -1]])\n",
    "    \n",
    "#     plt.title(title, pad=20, wrap=True)\n",
    "    plt.tight_layout()\n",
    "    \n",
    "    title = re.sub('\\W+','', title)\n",
    "    plt.savefig(title + '.pdf', bbox_inches='tight')\n",
    "    plt.savefig(title + '.png', bbox_inches='tight')\n",
    "    plt.savefig(title + '.eps', bbox_inches='tight')"
   ]
  },
  {
   "cell_type": "code",
   "execution_count": null,
   "metadata": {
    "scrolled": true
   },
   "outputs": [],
   "source": [
    "def plot_cross_sections(name=name, start_idx=0, end_idx=None, normal_freqs=normal_freqs, cs_raman=cs_raman, width='thesis', color='darkblue', linewidth=5.0):\n",
    "    \n",
    "    assert start_idx >=0\n",
    "    if end_idx:\n",
    "        assert start_idx < end_idx and end_idx < len(normal_freqs)\n",
    "    \n",
    "    plt.style.use('seaborn')\n",
    "    tex_fonts = {\n",
    "        # Use LaTeX to write all text\n",
    "        \"text.usetex\": True,\n",
    "        \"font.family\": \"serif\",\n",
    "        # Use 10pt font in plots, to match 10pt font in document\n",
    "        \"axes.labelsize\": 12,\n",
    "        \"font.size\": 12,\n",
    "        # Make the legend/label fonts a little smaller\n",
    "        \"legend.fontsize\": 10,\n",
    "        \"xtick.labelsize\": 10,\n",
    "        \"ytick.labelsize\": 10\n",
    "    }\n",
    "    plt.rcParams.update(tex_fonts)\n",
    "    \n",
    "    n_subplots = 3\n",
    "    title = 'Computed ' + name + ' ($\\lambda_L=$ {}nm)'.format(laser_wl)\n",
    "    \n",
    "    fig, axs = plt.subplots(n_subplots, figsize=set_size(width, subplots=(3,1)))\n",
    "    \n",
    "    for i in range(n_subplots):    \n",
    "        axs[i].set_title(title)\n",
    "        axs[i].vlines(normal_freqs[start_idx:end_idx],\n",
    "                      np.zeros_like(normal_freqs[start_idx:end_idx]),\n",
    "                      cs_raman[start_idx:end_idx, i],\n",
    "                      color=color,\n",
    "                      linewidth=linewidth)\n",
    "        \n",
    "    for ax in axs.flat:\n",
    "        ax.hlines(0, *plt.xlim(left=0))\n",
    "        ax.set(xlabel='Raman shift [$cm^{-1}$]', ylabel='Raman cross-section [arb. units]')\n",
    "        ax.label_outer()\n",
    "        ax.set_ylim([-5,105])\n",
    "        ax.set_xlim([-50, 1.05 * normal_freqs[end_idx if end_idx else -1]])\n",
    "        \n",
    "    axs[0].set_title(title + \" total Raman cross-section $\\sigma' (\\perp^s + \\parallel^s)$\", pad=20, wrap=True)\n",
    "    axs[1].set_title(title + \" perpendicular Raman cross-section $\\sigma' (\\perp^s)$\", pad=20, wrap=True)\n",
    "    axs[2].set_title(title + \" parallel Raman cross-section $\\sigma' (\\parallel^s)$\", pad=20, wrap=True)\n",
    "    plt.tight_layout()\n",
    "\n",
    "    title = re.sub('\\W+','', title)\n",
    "    plt.savefig(title + 'Ramancrosssection.pdf', bbox_inches='tight')\n",
    "    plt.savefig(title + 'Ramancrosssection.png', bbox_inches='tight')\n",
    "    plt.savefig(title + 'Ramancrosssection.eps', bbox_inches='tight')\n",
    "    "
   ]
  },
  {
   "cell_type": "markdown",
   "metadata": {},
   "source": [
    "## Calculating and Plotting Raman Intensities, Raman Cross-Sections"
   ]
  },
  {
   "cell_type": "code",
   "execution_count": null,
   "metadata": {
    "scrolled": true
   },
   "outputs": [],
   "source": [
    "# defining experimental parameters\n",
    "\n",
    "laser_wls = [0, 532, 785] # [nm]\n",
    "T = 300 # [K] - CP2K default\n",
    "\n",
    "\n",
    "# normal frequency range\n",
    "start_idx = 0\n",
    "# to find normal frequency index where to cut off to match experimental reference plots\n",
    "# freq_cutoff = 1800 # suitable cutoff for small AGNR experiments (empirical)\n",
    "freq_cutoff = np.inf # generic cutoff\n",
    "end_idx = np.where(normal_freqs < freq_cutoff)[0][-1]\n"
   ]
  },
  {
   "cell_type": "markdown",
   "metadata": {},
   "source": [
    "### Raman intensities"
   ]
  },
  {
   "cell_type": "code",
   "execution_count": null,
   "metadata": {
    "scrolled": false
   },
   "outputs": [],
   "source": [
    "# calculate absolute Raman intensity: total, perpendicular & parallel polarized scattering\n",
    "\n",
    "for k in range(num_normal_modes):\n",
    "    if normal_freqs[k] > 0:  # there are no physical negative normal frequencies\n",
    "        I_raman[k] = 45 * a_sq[k] + 7 * gamma_sq[k] + 5 * delta_sq[k],\\\n",
    "                     45 * a_sq[k] + 4 * gamma_sq[k]                  ,\\\n",
    "                                    3 * gamma_sq[k] + 5 * delta_sq[k]\n",
    "# plot intensities        \n",
    "plot_intensities(end_idx=end_idx)\n",
    "plot_intensity(title='Computed '+name+\" total Raman intensity $I(\\perp^s + \\parallel^s)$\", end_idx=end_idx)\n"
   ]
  },
  {
   "cell_type": "markdown",
   "metadata": {},
   "source": [
    "### Raman Cross-Sections"
   ]
  },
  {
   "cell_type": "code",
   "execution_count": null,
   "metadata": {
    "scrolled": true
   },
   "outputs": [],
   "source": [
    "# function to calculate differential cross section\n",
    "def diff_cross_section(I_k, nu_k, laser_wl=0, T=300):\n",
    "    if laser_wl > 0:\n",
    "        nu_in = np.reciprocal(laser_wl * 10e-7) # nm2cm = 1e-7\n",
    "    else:\n",
    "        nu_in = 0 # limit case\n",
    "    return np.pi**2 / eps_0**2 * (nu_in - nu_k)**4 * h / (8 * np.pi**2 * c * nu_k) \\\n",
    "           * I_k / 45 * np.reciprocal(1 - np.exp(-h * c * nu_k / (k_B * T)))"
   ]
  },
  {
   "cell_type": "code",
   "execution_count": null,
   "metadata": {
    "scrolled": false
   },
   "outputs": [],
   "source": [
    "for laser_wl in laser_wls:\n",
    "    # calculate differential Raman cross-section: total, perpendicular & parallel polarized scattering\n",
    "    for k in range(num_normal_modes):\n",
    "        if normal_freqs[k] > 0 and start_idx <= k < (end_idx if end_idx else num_normal_modes): # there are no physical negative normal frequencies\n",
    "            dsigma_domega[k] = diff_cross_section(I_raman[k, 0], normal_freqs[k], laser_wl, T), \\\n",
    "                               diff_cross_section(I_raman[k, 1], normal_freqs[k], laser_wl, T), \\\n",
    "                               diff_cross_section(I_raman[k, 2], normal_freqs[k], laser_wl, T)\n",
    "    cs_raman = dsigma_domega / np.max(dsigma_domega) * 100 # scale arbitrary units to 0-100\n",
    "\n",
    "    # plot cross-sections\n",
    "    plot_cross_sections(end_idx=end_idx, cs_raman=cs_raman)\n",
    "    plot_cross_section(title='Computed '+name+\" ($\\lambda_L=${}nm) total Raman cross-section $\\sigma'(\\perp^s + \\parallel^s)$\".format(laser_wl), end_idx=end_idx, cs_raman=cs_raman)"
   ]
  },
  {
   "cell_type": "markdown",
   "metadata": {},
   "source": [
    "## Verification Example for Ethane ($\\text{C}_2\\text{H}_6$)"
   ]
  },
  {
   "cell_type": "code",
   "execution_count": null,
   "metadata": {
    "scrolled": true
   },
   "outputs": [],
   "source": [
    "# for verification C2H6\n",
    "# Porezag and Pederson (1996), Physical Review B, 54(11):7830–7836, doi:10.1103/PhysRevB.54.7830\n",
    "ref_normal_freqs = np.asarray([301, 1016, 1246, 1449, 1552, 3043, 3175])\n",
    "ref_I_raman = np.asarray([0.0, 13.4, 0.6, 0.2, 17.8, 302.0, 290.0]).reshape((-1,1))\n",
    "\n",
    "title = 'Reference Ethane experimental total Raman intensity $I(\\perp^s + \\parallel^s)$'\n",
    "plot_intensity(title, start_idx=0, end_idx=None, normal_freqs=ref_normal_freqs, I_raman=ref_I_raman)"
   ]
  }
 ],
 "metadata": {
  "kernelspec": {
   "display_name": "Python 3",
   "language": "python",
   "name": "python3"
  },
  "language_info": {
   "codemirror_mode": {
    "name": "ipython",
    "version": 3
   },
   "file_extension": ".py",
   "mimetype": "text/x-python",
   "name": "python",
   "nbconvert_exporter": "python",
   "pygments_lexer": "ipython3",
   "version": "3.8.5"
  },
  "latex_envs": {
   "LaTeX_envs_menu_present": true,
   "autoclose": false,
   "autocomplete": false,
   "bibliofile": "biblio.bib",
   "cite_by": "apalike",
   "current_citInitial": 1,
   "eqLabelWithNumbers": true,
   "eqNumInitial": 1,
   "hotkeys": {
    "equation": "Ctrl-E",
    "itemize": "Ctrl-I"
   },
   "labels_anchors": false,
   "latex_user_defs": false,
   "report_style_numbering": false,
   "user_envs_cfg": false
  },
  "toc": {
   "base_numbering": 1,
   "nav_menu": {},
   "number_sections": true,
   "sideBar": true,
   "skip_h1_title": false,
   "title_cell": "Table of Contents",
   "title_sidebar": "Contents",
   "toc_cell": true,
   "toc_position": {},
   "toc_section_display": true,
   "toc_window_display": true
  },
  "varInspector": {
   "cols": {
    "lenName": 16,
    "lenType": 16,
    "lenVar": 40
   },
   "kernels_config": {
    "python": {
     "delete_cmd_postfix": "",
     "delete_cmd_prefix": "del ",
     "library": "var_list.py",
     "varRefreshCmd": "print(var_dic_list())"
    },
    "r": {
     "delete_cmd_postfix": ") ",
     "delete_cmd_prefix": "rm(",
     "library": "var_list.r",
     "varRefreshCmd": "cat(var_dic_list()) "
    }
   },
   "types_to_exclude": [
    "module",
    "function",
    "builtin_function_or_method",
    "instance",
    "_Feature"
   ],
   "window_display": false
  }
 },
 "nbformat": 4,
 "nbformat_minor": 2
}
